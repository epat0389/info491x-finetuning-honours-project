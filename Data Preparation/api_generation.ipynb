{
 "cells": [
  {
   "cell_type": "code",
   "execution_count": 4,
   "metadata": {},
   "outputs": [],
   "source": [
    "import pandas as pd \n",
    "from my_api_key import api_key # l\n",
    "from openai import OpenAI\n",
    "\n",
    "key = api_key\n",
    "\n",
    "# Function to generate a short answer from a given question and answer\n",
    "def get_short_answer(question, answer, key):\n",
    "    \n",
    "    client = OpenAI(api_key=key)\n",
    "\n",
    "    response = client.chat.completions.create(\n",
    "        model=\"gpt-4\",\n",
    "        messages = [     \n",
    "            {\"role\": \"user\", \"content\": f\"For this question answer pair, summarize the answer in 15 words or less which is concise ans answers the question: \\nQuestion: {question}\\nAnswer: {answer}\"}\n",
    "        ]\n",
    "        )\n",
    "    return response.choices[0].message.content\n"
   ]
  },
  {
   "cell_type": "code",
   "execution_count": 5,
   "metadata": {},
   "outputs": [
    {
     "name": "stdout",
     "output_type": "stream",
     "text": [
      "A hybridizer is a compiler for programming GPUs and accelerators using C# or .NET assembly.\n"
     ]
    }
   ],
   "source": [
    "#test\n",
    "print(get_short_answer('what is hybridizer?', 'hybridizer is a compiler for programming gpus and accelerators using c# or .net assembly.', key))"
   ]
  },
  {
   "cell_type": "code",
   "execution_count": 91,
   "metadata": {},
   "outputs": [],
   "source": [
    "df = pd.read_csv('NvidiaDocumentationQandApairs.csv')\n",
    "\n",
    "# Apply the function to each row in the DataFrame\n",
    "# Assume 'question' and 'answer' are the names of your columns\n",
    "df['short_answer'] = df.apply(lambda row: get_short_answer(row['question'], row['answer'], key), axis=1)\n",
    "\n",
    "# Save the updated DataFrame to a new CSV file\n",
    "df.to_csv('NvidiaDocumentationQandApairs_Short_huge.csv', index=False)"
   ]
  }
 ],
 "metadata": {
  "kernelspec": {
   "display_name": "Python 3 (ipykernel)",
   "language": "python",
   "name": "python3"
  },
  "language_info": {
   "codemirror_mode": {
    "name": "ipython",
    "version": 3
   },
   "file_extension": ".py",
   "mimetype": "text/x-python",
   "name": "python",
   "nbconvert_exporter": "python",
   "pygments_lexer": "ipython3",
   "version": "3.11.8"
  }
 },
 "nbformat": 4,
 "nbformat_minor": 4
}
