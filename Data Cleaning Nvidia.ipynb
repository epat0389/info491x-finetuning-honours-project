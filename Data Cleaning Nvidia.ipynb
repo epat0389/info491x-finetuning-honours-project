{
 "cells": [
  {
   "cell_type": "markdown",
   "id": "fcba7b9d-5a97-4bef-86bc-55323174a477",
   "metadata": {},
   "source": [
    "## Importing Necessary Libraries"
   ]
  },
  {
   "cell_type": "code",
   "execution_count": 2,
   "id": "cc567fb9-28e7-44de-811f-e105ea1e612e",
   "metadata": {},
   "outputs": [
    {
     "name": "stderr",
     "output_type": "stream",
     "text": [
      "[nltk_data] Downloading package punkt to\n",
      "[nltk_data]     C:\\Users\\User\\AppData\\Roaming\\nltk_data...\n",
      "[nltk_data]   Package punkt is already up-to-date!\n"
     ]
    },
    {
     "data": {
      "text/plain": [
       "True"
      ]
     },
     "execution_count": 2,
     "metadata": {},
     "output_type": "execute_result"
    }
   ],
   "source": [
    "import re\n",
    "import nltk\n",
    "import warnings\n",
    "import pandas as pd\n",
    "import seaborn as sns\n",
    "from tqdm import tqdm \n",
    "from wordcloud import WordCloud\n",
    "from collections import Counter\n",
    "import matplotlib.pyplot as plt\n",
    "plt.rcParams['figure.dpi'] = 300\n",
    "warnings.filterwarnings(\"ignore\")\n",
    "\n",
    "nltk.download('punkt')"
   ]
  },
  {
   "cell_type": "markdown",
   "id": "3d71e231-9038-47cf-98c3-c0cfa11c4b0f",
   "metadata": {},
   "source": [
    "## Loading the Data"
   ]
  },
  {
   "cell_type": "code",
   "execution_count": 8,
   "id": "edd9e1f8-2cf6-4f5c-8ddc-f757ef6a2ae1",
   "metadata": {},
   "outputs": [
    {
     "name": "stdout",
     "output_type": "stream",
     "text": [
      "First few rows of Data:\n"
     ]
    },
    {
     "data": {
      "text/html": [
       "<div>\n",
       "<style scoped>\n",
       "    .dataframe tbody tr th:only-of-type {\n",
       "        vertical-align: middle;\n",
       "    }\n",
       "\n",
       "    .dataframe tbody tr th {\n",
       "        vertical-align: top;\n",
       "    }\n",
       "\n",
       "    .dataframe thead th {\n",
       "        text-align: right;\n",
       "    }\n",
       "</style>\n",
       "<table border=\"1\" class=\"dataframe\">\n",
       "  <thead>\n",
       "    <tr style=\"text-align: right;\">\n",
       "      <th></th>\n",
       "      <th>question</th>\n",
       "      <th>short_answer</th>\n",
       "    </tr>\n",
       "  </thead>\n",
       "  <tbody>\n",
       "    <tr>\n",
       "      <th>0</th>\n",
       "      <td>What is Hybridizer?</td>\n",
       "      <td>Hybridizer is a compiler for programming GPUs ...</td>\n",
       "    </tr>\n",
       "    <tr>\n",
       "      <th>1</th>\n",
       "      <td>How does Hybridizer generate optimized code?</td>\n",
       "      <td>Hybridizer generates optimized code using deco...</td>\n",
       "    </tr>\n",
       "    <tr>\n",
       "      <th>2</th>\n",
       "      <td>What are some parallelization patterns mention...</td>\n",
       "      <td>The text mentions parallelization patterns lik...</td>\n",
       "    </tr>\n",
       "    <tr>\n",
       "      <th>3</th>\n",
       "      <td>How can you benefit from accelerators without ...</td>\n",
       "      <td>Use patterns like Parallel.For or CUDA-like di...</td>\n",
       "    </tr>\n",
       "    <tr>\n",
       "      <th>4</th>\n",
       "      <td>What is an example of using Hybridizer?</td>\n",
       "      <td>Using Parallel.For with a lambda to utilize th...</td>\n",
       "    </tr>\n",
       "    <tr>\n",
       "      <th>...</th>\n",
       "      <td>...</td>\n",
       "      <td>...</td>\n",
       "    </tr>\n",
       "    <tr>\n",
       "      <th>7103</th>\n",
       "      <td>What is the focus of the GTC event in 2015?</td>\n",
       "      <td>The 2015 GTC event focused on GPU code optimiz...</td>\n",
       "    </tr>\n",
       "    <tr>\n",
       "      <th>7104</th>\n",
       "      <td>How were the main changes made to the code for...</td>\n",
       "      <td>The code was optimized by merging kernels, reg...</td>\n",
       "    </tr>\n",
       "    <tr>\n",
       "      <th>7105</th>\n",
       "      <td>What are some key fields in the cudaDeviceProp...</td>\n",
       "      <td>The key fields in the cudaDeviceProp struct ar...</td>\n",
       "    </tr>\n",
       "    <tr>\n",
       "      <th>7106</th>\n",
       "      <td>What did changing the kernel approach achieve ...</td>\n",
       "      <td>The kernel approach change reduced the iterati...</td>\n",
       "    </tr>\n",
       "    <tr>\n",
       "      <th>7107</th>\n",
       "      <td>What is the primary focus of STAC-A2 benchmarks?</td>\n",
       "      <td>STAC-A2 benchmarks primarily focus on represen...</td>\n",
       "    </tr>\n",
       "  </tbody>\n",
       "</table>\n",
       "<p>7108 rows × 2 columns</p>\n",
       "</div>"
      ],
      "text/plain": [
       "                                               question  \\\n",
       "0                                   What is Hybridizer?   \n",
       "1          How does Hybridizer generate optimized code?   \n",
       "2     What are some parallelization patterns mention...   \n",
       "3     How can you benefit from accelerators without ...   \n",
       "4               What is an example of using Hybridizer?   \n",
       "...                                                 ...   \n",
       "7103        What is the focus of the GTC event in 2015?   \n",
       "7104  How were the main changes made to the code for...   \n",
       "7105  What are some key fields in the cudaDeviceProp...   \n",
       "7106  What did changing the kernel approach achieve ...   \n",
       "7107   What is the primary focus of STAC-A2 benchmarks?   \n",
       "\n",
       "                                           short_answer  \n",
       "0     Hybridizer is a compiler for programming GPUs ...  \n",
       "1     Hybridizer generates optimized code using deco...  \n",
       "2     The text mentions parallelization patterns lik...  \n",
       "3     Use patterns like Parallel.For or CUDA-like di...  \n",
       "4     Using Parallel.For with a lambda to utilize th...  \n",
       "...                                                 ...  \n",
       "7103  The 2015 GTC event focused on GPU code optimiz...  \n",
       "7104  The code was optimized by merging kernels, reg...  \n",
       "7105  The key fields in the cudaDeviceProp struct ar...  \n",
       "7106  The kernel approach change reduced the iterati...  \n",
       "7107  STAC-A2 benchmarks primarily focus on represen...  \n",
       "\n",
       "[7108 rows x 2 columns]"
      ]
     },
     "metadata": {},
     "output_type": "display_data"
    }
   ],
   "source": [
    "\n",
    "data = pd.read_csv('NvidiaDocumentationQandApairs_Short_huge.csv', encoding='UTF-8')\n",
    "\n",
    "# Keeping only 'question_title' and 'short_answer' columns, dropping the rest\n",
    "data = data[['question', 'short_answer']].reset_index(drop=True)\n",
    "\n",
    "# Displaying the first few rows \n",
    "print(\"First few rows of Data:\")\n",
    "data\n",
    "display(data)\n"
   ]
  },
  {
   "cell_type": "markdown",
   "id": "277afd2d-426f-4ec7-bfc3-84730b62d806",
   "metadata": {},
   "source": [
    "## Statistical Analysis"
   ]
  },
  {
   "cell_type": "code",
   "execution_count": 9,
   "id": "84949f00-fb32-4c0a-914e-1c6cd86391d7",
   "metadata": {},
   "outputs": [
    {
     "name": "stdout",
     "output_type": "stream",
     "text": [
      "Data Types in Train Data:\n"
     ]
    },
    {
     "data": {
      "text/plain": [
       "question        object\n",
       "short_answer    object\n",
       "dtype: object"
      ]
     },
     "metadata": {},
     "output_type": "display_data"
    }
   ],
   "source": [
    "# Displaying the data types for the data\n",
    "print(\"Data Types in Train Data:\")\n",
    "display(data.dtypes)\n"
   ]
  },
  {
   "cell_type": "code",
   "execution_count": 10,
   "id": "e6510b07-5e63-405b-849e-4f71227f2574",
   "metadata": {},
   "outputs": [
    {
     "name": "stdout",
     "output_type": "stream",
     "text": [
      "Null Values in Train Data, Sorted:\n",
      "question        0\n",
      "short_answer    0\n",
      "dtype: int64\n"
     ]
    }
   ],
   "source": [
    "# Checking for null values in the dataset, sorted in descending order\n",
    "print(\"Null Values in Train Data, Sorted:\")\n",
    "print(data.isnull().sum().sort_values(ascending=False))\n"
   ]
  },
  {
   "cell_type": "code",
   "execution_count": 11,
   "id": "b0e4c021-5a6e-49d2-bd53-993d559d2c11",
   "metadata": {},
   "outputs": [
    {
     "name": "stdout",
     "output_type": "stream",
     "text": [
      "Exact Duplicated Rows in Data: 152\n",
      "\n",
      "Duplicated Rows in the Data:\n"
     ]
    },
    {
     "data": {
      "text/html": [
       "<div>\n",
       "<style scoped>\n",
       "    .dataframe tbody tr th:only-of-type {\n",
       "        vertical-align: middle;\n",
       "    }\n",
       "\n",
       "    .dataframe tbody tr th {\n",
       "        vertical-align: top;\n",
       "    }\n",
       "\n",
       "    .dataframe thead th {\n",
       "        text-align: right;\n",
       "    }\n",
       "</style>\n",
       "<table border=\"1\" class=\"dataframe\">\n",
       "  <thead>\n",
       "    <tr style=\"text-align: right;\">\n",
       "      <th></th>\n",
       "      <th>question</th>\n",
       "      <th>short_answer</th>\n",
       "    </tr>\n",
       "  </thead>\n",
       "  <tbody>\n",
       "    <tr>\n",
       "      <th>22</th>\n",
       "      <td>What architectures does CUDA 11.3 support?</td>\n",
       "      <td>CUDA 11.3 supports NVIDIA Ampere, x86, Arm ser...</td>\n",
       "    </tr>\n",
       "    <tr>\n",
       "      <th>401</th>\n",
       "      <td>What is the role of Tensor Cores in the Volta ...</td>\n",
       "      <td>Tensor Cores in Volta architecture are designe...</td>\n",
       "    </tr>\n",
       "    <tr>\n",
       "      <th>411</th>\n",
       "      <td>What is the role of Tensor Cores in the Volta ...</td>\n",
       "      <td>Tensor Cores in Volta architecture are designe...</td>\n",
       "    </tr>\n",
       "    <tr>\n",
       "      <th>662</th>\n",
       "      <td>What types of containers can you run within th...</td>\n",
       "      <td>You can run any NVIDIA Linux container within ...</td>\n",
       "    </tr>\n",
       "    <tr>\n",
       "      <th>683</th>\n",
       "      <td>What types of containers can you run within th...</td>\n",
       "      <td>You can run any NVIDIA Linux container within ...</td>\n",
       "    </tr>\n",
       "    <tr>\n",
       "      <th>...</th>\n",
       "      <td>...</td>\n",
       "      <td>...</td>\n",
       "    </tr>\n",
       "    <tr>\n",
       "      <th>6340</th>\n",
       "      <td>How does quantization simplify the tree constr...</td>\n",
       "      <td>Quantization simplifies tree construction in g...</td>\n",
       "    </tr>\n",
       "    <tr>\n",
       "      <th>6617</th>\n",
       "      <td>When might it be necessary to write custom CUD...</td>\n",
       "      <td>Custom CUDA code is needed for complex GPU tas...</td>\n",
       "    </tr>\n",
       "    <tr>\n",
       "      <th>6637</th>\n",
       "      <td>When might it be necessary to write custom CUD...</td>\n",
       "      <td>Custom CUDA code is needed for complex GPU tas...</td>\n",
       "    </tr>\n",
       "    <tr>\n",
       "      <th>7016</th>\n",
       "      <td>How can you reduce the performance impact of e...</td>\n",
       "      <td>Use preprocessor macros to include error check...</td>\n",
       "    </tr>\n",
       "    <tr>\n",
       "      <th>7031</th>\n",
       "      <td>How can you reduce the performance impact of e...</td>\n",
       "      <td>Use preprocessor macros to include error check...</td>\n",
       "    </tr>\n",
       "  </tbody>\n",
       "</table>\n",
       "<p>264 rows × 2 columns</p>\n",
       "</div>"
      ],
      "text/plain": [
       "                                               question  \\\n",
       "22           What architectures does CUDA 11.3 support?   \n",
       "401   What is the role of Tensor Cores in the Volta ...   \n",
       "411   What is the role of Tensor Cores in the Volta ...   \n",
       "662   What types of containers can you run within th...   \n",
       "683   What types of containers can you run within th...   \n",
       "...                                                 ...   \n",
       "6340  How does quantization simplify the tree constr...   \n",
       "6617  When might it be necessary to write custom CUD...   \n",
       "6637  When might it be necessary to write custom CUD...   \n",
       "7016  How can you reduce the performance impact of e...   \n",
       "7031  How can you reduce the performance impact of e...   \n",
       "\n",
       "                                           short_answer  \n",
       "22    CUDA 11.3 supports NVIDIA Ampere, x86, Arm ser...  \n",
       "401   Tensor Cores in Volta architecture are designe...  \n",
       "411   Tensor Cores in Volta architecture are designe...  \n",
       "662   You can run any NVIDIA Linux container within ...  \n",
       "683   You can run any NVIDIA Linux container within ...  \n",
       "...                                                 ...  \n",
       "6340  Quantization simplifies tree construction in g...  \n",
       "6617  Custom CUDA code is needed for complex GPU tas...  \n",
       "6637  Custom CUDA code is needed for complex GPU tas...  \n",
       "7016  Use preprocessor macros to include error check...  \n",
       "7031  Use preprocessor macros to include error check...  \n",
       "\n",
       "[264 rows x 2 columns]"
      ]
     },
     "metadata": {},
     "output_type": "display_data"
    }
   ],
   "source": [
    "# Checking for exact duplicated rows in the dataset\n",
    "duplicated_rows_count = data.duplicated().sum()\n",
    "print(\"Exact Duplicated Rows in Data:\", duplicated_rows_count)\n",
    "if duplicated_rows_count > 0:\n",
    "    # If there are duplicated rows, print them\n",
    "    print(\"\\nDuplicated Rows in the Data:\")\n",
    "    duplicated_train_rows = data[data.duplicated(keep=False)]\n",
    "    display(duplicated_train_rows)"
   ]
  },
  {
   "cell_type": "markdown",
   "id": "118a2d84-7af4-4e01-987f-267154779461",
   "metadata": {},
   "source": [
    "## Data Cleaning"
   ]
  },
  {
   "cell_type": "code",
   "execution_count": 13,
   "id": "57fc95df-7a14-4bd3-81d1-57225f2730e9",
   "metadata": {},
   "outputs": [
    {
     "name": "stdout",
     "output_type": "stream",
     "text": [
      "New Shape of Cleaned Data: (6956, 2)\n"
     ]
    },
    {
     "data": {
      "text/html": [
       "<div>\n",
       "<style scoped>\n",
       "    .dataframe tbody tr th:only-of-type {\n",
       "        vertical-align: middle;\n",
       "    }\n",
       "\n",
       "    .dataframe tbody tr th {\n",
       "        vertical-align: top;\n",
       "    }\n",
       "\n",
       "    .dataframe thead th {\n",
       "        text-align: right;\n",
       "    }\n",
       "</style>\n",
       "<table border=\"1\" class=\"dataframe\">\n",
       "  <thead>\n",
       "    <tr style=\"text-align: right;\">\n",
       "      <th></th>\n",
       "      <th>question</th>\n",
       "      <th>short_answer</th>\n",
       "    </tr>\n",
       "  </thead>\n",
       "  <tbody>\n",
       "    <tr>\n",
       "      <th>0</th>\n",
       "      <td>What is Hybridizer?</td>\n",
       "      <td>Hybridizer is a compiler for programming GPUs ...</td>\n",
       "    </tr>\n",
       "    <tr>\n",
       "      <th>1</th>\n",
       "      <td>How does Hybridizer generate optimized code?</td>\n",
       "      <td>Hybridizer generates optimized code using deco...</td>\n",
       "    </tr>\n",
       "    <tr>\n",
       "      <th>2</th>\n",
       "      <td>What are some parallelization patterns mention...</td>\n",
       "      <td>The text mentions parallelization patterns lik...</td>\n",
       "    </tr>\n",
       "    <tr>\n",
       "      <th>3</th>\n",
       "      <td>How can you benefit from accelerators without ...</td>\n",
       "      <td>Use patterns like Parallel.For or CUDA-like di...</td>\n",
       "    </tr>\n",
       "    <tr>\n",
       "      <th>4</th>\n",
       "      <td>What is an example of using Hybridizer?</td>\n",
       "      <td>Using Parallel.For with a lambda to utilize th...</td>\n",
       "    </tr>\n",
       "    <tr>\n",
       "      <th>...</th>\n",
       "      <td>...</td>\n",
       "      <td>...</td>\n",
       "    </tr>\n",
       "    <tr>\n",
       "      <th>6951</th>\n",
       "      <td>What is the focus of the GTC event in 2015?</td>\n",
       "      <td>The 2015 GTC event focused on GPU code optimiz...</td>\n",
       "    </tr>\n",
       "    <tr>\n",
       "      <th>6952</th>\n",
       "      <td>How were the main changes made to the code for...</td>\n",
       "      <td>The code was optimized by merging kernels, reg...</td>\n",
       "    </tr>\n",
       "    <tr>\n",
       "      <th>6953</th>\n",
       "      <td>What are some key fields in the cudaDeviceProp...</td>\n",
       "      <td>The key fields in the cudaDeviceProp struct ar...</td>\n",
       "    </tr>\n",
       "    <tr>\n",
       "      <th>6954</th>\n",
       "      <td>What did changing the kernel approach achieve ...</td>\n",
       "      <td>The kernel approach change reduced the iterati...</td>\n",
       "    </tr>\n",
       "    <tr>\n",
       "      <th>6955</th>\n",
       "      <td>What is the primary focus of STAC-A2 benchmarks?</td>\n",
       "      <td>STAC-A2 benchmarks primarily focus on represen...</td>\n",
       "    </tr>\n",
       "  </tbody>\n",
       "</table>\n",
       "<p>6956 rows × 2 columns</p>\n",
       "</div>"
      ],
      "text/plain": [
       "                                               question  \\\n",
       "0                                   What is Hybridizer?   \n",
       "1          How does Hybridizer generate optimized code?   \n",
       "2     What are some parallelization patterns mention...   \n",
       "3     How can you benefit from accelerators without ...   \n",
       "4               What is an example of using Hybridizer?   \n",
       "...                                                 ...   \n",
       "6951        What is the focus of the GTC event in 2015?   \n",
       "6952  How were the main changes made to the code for...   \n",
       "6953  What are some key fields in the cudaDeviceProp...   \n",
       "6954  What did changing the kernel approach achieve ...   \n",
       "6955   What is the primary focus of STAC-A2 benchmarks?   \n",
       "\n",
       "                                           short_answer  \n",
       "0     Hybridizer is a compiler for programming GPUs ...  \n",
       "1     Hybridizer generates optimized code using deco...  \n",
       "2     The text mentions parallelization patterns lik...  \n",
       "3     Use patterns like Parallel.For or CUDA-like di...  \n",
       "4     Using Parallel.For with a lambda to utilize th...  \n",
       "...                                                 ...  \n",
       "6951  The 2015 GTC event focused on GPU code optimiz...  \n",
       "6952  The code was optimized by merging kernels, reg...  \n",
       "6953  The key fields in the cudaDeviceProp struct ar...  \n",
       "6954  The kernel approach change reduced the iterati...  \n",
       "6955  STAC-A2 benchmarks primarily focus on represen...  \n",
       "\n",
       "[6956 rows x 2 columns]"
      ]
     },
     "execution_count": 13,
     "metadata": {},
     "output_type": "execute_result"
    }
   ],
   "source": [
    "# Dropping all rows with any null values in the Health-related train dataset\n",
    "data = data.dropna().drop_duplicates().reset_index(drop=True)\n",
    "# Dropping all rows with any null values in the Health-related test dataset\n",
    "\n",
    "\n",
    "# Printing the new shape of the cleaned train and test datasets\n",
    "print(\"New Shape of Cleaned Data:\", data.shape)\n",
    "data"
   ]
  },
  {
   "cell_type": "markdown",
   "id": "515700e3-61f5-446e-b240-b7d9c4e879f5",
   "metadata": {},
   "source": [
    "## Data Normalization"
   ]
  },
  {
   "cell_type": "code",
   "execution_count": 8,
   "id": "9096cdf8-670d-49e4-b744-076caa413571",
   "metadata": {},
   "outputs": [
    {
     "name": "stderr",
     "output_type": "stream",
     "text": [
      "Cleaning Question Titles: 100%|██████████| 6956/6956 [00:00<00:00, 137443.02it/s]\n",
      "Cleaning Best Answers: 100%|██████████| 6956/6956 [00:00<00:00, 141924.58it/s]"
     ]
    },
    {
     "name": "stdout",
     "output_type": "stream",
     "text": [
      "Head of Cleaned Data:\n"
     ]
    },
    {
     "name": "stderr",
     "output_type": "stream",
     "text": [
      "\n"
     ]
    },
    {
     "data": {
      "text/html": [
       "<div>\n",
       "<style scoped>\n",
       "    .dataframe tbody tr th:only-of-type {\n",
       "        vertical-align: middle;\n",
       "    }\n",
       "\n",
       "    .dataframe tbody tr th {\n",
       "        vertical-align: top;\n",
       "    }\n",
       "\n",
       "    .dataframe thead th {\n",
       "        text-align: right;\n",
       "    }\n",
       "</style>\n",
       "<table border=\"1\" class=\"dataframe\">\n",
       "  <thead>\n",
       "    <tr style=\"text-align: right;\">\n",
       "      <th></th>\n",
       "      <th>question</th>\n",
       "      <th>answer</th>\n",
       "    </tr>\n",
       "  </thead>\n",
       "  <tbody>\n",
       "    <tr>\n",
       "      <th>0</th>\n",
       "      <td>what is hybridizer?</td>\n",
       "      <td>hybridizer is a compiler for programming gpus and accelerators using c# or .net assembly.</td>\n",
       "    </tr>\n",
       "    <tr>\n",
       "      <th>1</th>\n",
       "      <td>how does hybridizer generate optimized code?</td>\n",
       "      <td>hybridizer generates optimized code using decorated symbols for parallelism, designed for multic...</td>\n",
       "    </tr>\n",
       "    <tr>\n",
       "      <th>2</th>\n",
       "      <td>what are some parallelization patterns mentioned in the text?</td>\n",
       "      <td>the text mentions parallelization patterns like parallel.for and distributing parallel work simi...</td>\n",
       "    </tr>\n",
       "    <tr>\n",
       "      <th>3</th>\n",
       "      <td>how can you benefit from accelerators without learning their internal architecture?</td>\n",
       "      <td>use patterns like parallel.for or cuda-like distribution for using accelerators without knowing ...</td>\n",
       "    </tr>\n",
       "    <tr>\n",
       "      <th>4</th>\n",
       "      <td>what is an example of using hybridizer?</td>\n",
       "      <td>using parallel.for with a lambda to utilize the computing power of accelerators is an example.</td>\n",
       "    </tr>\n",
       "  </tbody>\n",
       "</table>\n",
       "</div>"
      ],
      "text/plain": [
       "                                                                              question  \\\n",
       "0                                                                  what is hybridizer?   \n",
       "1                                         how does hybridizer generate optimized code?   \n",
       "2                        what are some parallelization patterns mentioned in the text?   \n",
       "3  how can you benefit from accelerators without learning their internal architecture?   \n",
       "4                                              what is an example of using hybridizer?   \n",
       "\n",
       "                                                                                                answer  \n",
       "0            hybridizer is a compiler for programming gpus and accelerators using c# or .net assembly.  \n",
       "1  hybridizer generates optimized code using decorated symbols for parallelism, designed for multic...  \n",
       "2  the text mentions parallelization patterns like parallel.for and distributing parallel work simi...  \n",
       "3  use patterns like parallel.for or cuda-like distribution for using accelerators without knowing ...  \n",
       "4       using parallel.for with a lambda to utilize the computing power of accelerators is an example.  "
      ]
     },
     "metadata": {},
     "output_type": "display_data"
    },
    {
     "name": "stdout",
     "output_type": "stream",
     "text": [
      "Files have been successfully saved.\n"
     ]
    }
   ],
   "source": [
    "def clean_text(text):\n",
    "    # Ensuring text is a string\n",
    "    if not isinstance(text, str):\n",
    "        text = str(text)\n",
    "    text = text.split('\\n')\n",
    "    # Converting text to lowercase for uniformity\n",
    "    text = text[0].lower()\n",
    "    # Explicitly remove newline characters and carriage returns\n",
    "    text = text.replace('\\\\n', ' ')  # Replace newline with space\n",
    "    text = text.replace('\\r', ' ')  # Replace carriage return with space\n",
    "    # Remove HTML break tags and other common HTML elements\n",
    "    text = re.sub(r'<br\\s*/?>', ' ', text)  # Handle variations like <br> and <br />\n",
    "    # Removing unwanted HTML tags\n",
    "    html_tags = re.compile('<.*?>')  # Regex to match HTML tags\n",
    "    text = re.sub(html_tags, ' ', text)  # Removing HTML tags\n",
    "    # Removing URLs from text\n",
    "    urls = re.compile(r'http[s]?://\\S+')\n",
    "    text = re.sub(urls, '', text)  # Removing URLs\n",
    "    # Replacing multiple spaces with a single space\n",
    "    text = re.sub(r'\\s+', ' ', text)  # Replacing multiple spaces with a single space\n",
    "    # Strip leading and trailing whitespace\n",
    "    text = text.strip()\n",
    "    return text  # Returning the cleaned text\n",
    "\n",
    "# Applying the cleaning function to the 'question_title' and 'best_answer' columns\n",
    "data['question'] = [clean_text(q) for q in tqdm(data['question'], desc='Cleaning Question Titles')]\n",
    "data['answer'] = [clean_text(a) for a in tqdm(data['short_answer'], desc='Cleaning Best Answers')]\n",
    "\n",
    "\n",
    "\n",
    "# Displaying the first few rows of the cleaned data to verify the cleaning process\n",
    "print(\"Head of Cleaned Data:\")\n",
    "display(data[['question', 'answer']].head())  # Displaying the cleaned data\n",
    "\n",
    "# Writing the cleaned train data to a new CSV file\n",
    "data[['question', 'answer' ]].to_csv('Nvidia_cleaned.csv', index=False)\n",
    "\n",
    "# Printing a message for successfully saved files\n",
    "print(\"Files have been successfully saved.\")"
   ]
  },
  {
   "cell_type": "code",
   "execution_count": 11,
   "id": "e03e39a8",
   "metadata": {},
   "outputs": [],
   "source": [
    "import csv\n",
    "\n",
    "# Save the CSV with every field enclosed in quotes\n",
    "data.to_csv('Nvidia_cleaned_big_quoted.csv', quoting=csv.QUOTE_ALL, index=False, encoding='UTF-8')\n"
   ]
  }
 ],
 "metadata": {
  "kernelspec": {
   "display_name": "Python 3 (ipykernel)",
   "language": "python",
   "name": "python3"
  },
  "language_info": {
   "codemirror_mode": {
    "name": "ipython",
    "version": 3
   },
   "file_extension": ".py",
   "mimetype": "text/x-python",
   "name": "python",
   "nbconvert_exporter": "python",
   "pygments_lexer": "ipython3",
   "version": "3.11.8"
  }
 },
 "nbformat": 4,
 "nbformat_minor": 5
}
